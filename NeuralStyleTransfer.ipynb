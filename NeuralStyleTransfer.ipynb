{
  "nbformat": 4,
  "nbformat_minor": 0,
  "metadata": {
    "colab": {
      "name": "NeuralStyleTransfer.ipynb",
      "provenance": []
    },
    "kernelspec": {
      "name": "python3",
      "display_name": "Python 3"
    },
    "language_info": {
      "name": "python"
    }
  },
  "cells": [
    {
      "cell_type": "markdown",
      "source": [
        "Importing Libraries"
      ],
      "metadata": {
        "id": "QL8Z5NGOxeMu"
      }
    },
    {
      "cell_type": "code",
      "execution_count": 1,
      "metadata": {
        "id": "nyAQ1sLnxQOc"
      },
      "outputs": [],
      "source": [
        "from PIL import Image\n",
        "import matplotlib.pyplot as plt\n",
        "import numpy as np\n",
        "\n",
        "import torch\n",
        "import torch.optim as optim\n",
        "from torchvision import transforms, models"
      ]
    },
    {
      "cell_type": "markdown",
      "source": [
        "Loading the model"
      ],
      "metadata": {
        "id": "2Qw0R5mzx8-N"
      }
    },
    {
      "cell_type": "code",
      "source": [
        "# loading the first part\n",
        "vgg = models.vgg19(pretrained=True).features\n",
        "\n",
        "# freezing the parameters\n",
        "for param in vgg.parameters():\n",
        "    param.requires_grad_(False)\n",
        "    \n",
        "# move the model to GPU, if available\n",
        "device = torch.device(\"cuda\" if torch.cuda.is_available() else \"cpu\")\n",
        "\n",
        "vgg.to(device)"
      ],
      "metadata": {
        "id": "O9pCcv5hxYbN"
      },
      "execution_count": null,
      "outputs": []
    },
    {
      "cell_type": "markdown",
      "source": [
        "Loading content and style images"
      ],
      "metadata": {
        "id": "SMpwyuofyFLe"
      }
    },
    {
      "cell_type": "code",
      "source": [
        "def load_image(img_path, max_size=400, shape=None):\n",
        "    \n",
        "    image = Image.open(img_path).convert('RGB')\n",
        "    \n",
        "    # large images will slow down processing\n",
        "    if max(image.size) > max_size:\n",
        "        size = max_size\n",
        "    else:\n",
        "        size = max(image.size)\n",
        "    \n",
        "    if shape is not None:\n",
        "        size = shape\n",
        "        \n",
        "    in_transform = transforms.Compose([\n",
        "                        transforms.Resize(size),\n",
        "                        transforms.ToTensor(),\n",
        "                        transforms.Normalize((0.485, 0.456, 0.406), \n",
        "                                             (0.229, 0.224, 0.225))])\n",
        "\n",
        "    # discard the transparent, alpha channel (that's the :3) and add the batch dimension\n",
        "    image = in_transform(image)[:3,:,:].unsqueeze(0)\n",
        "    \n",
        "    return image"
      ],
      "metadata": {
        "id": "ePQU1-hbxdT7"
      },
      "execution_count": null,
      "outputs": []
    },
    {
      "cell_type": "code",
      "source": [
        "content_image_path = 'content.jpeg' \n",
        "\n",
        "content = load_image(content_image_path).to(device)\n",
        "\n",
        "style_image_path = 'style.png'\n",
        "\n",
        "# Resize style to match content.\n",
        "style = load_image(style_image_path, shape=content.shape[-2:]).to(device)"
      ],
      "metadata": {
        "id": "BozcKKQkyLaI"
      },
      "execution_count": null,
      "outputs": []
    },
    {
      "cell_type": "markdown",
      "source": [
        "Getting features"
      ],
      "metadata": {
        "id": "ZhCaiTeTyQK1"
      }
    },
    {
      "cell_type": "code",
      "source": [
        "def get_features(image, model, layers=None):\n",
        "\n",
        "    # The layers that are mentioned in Gatys et al (2016) paper\n",
        "    if layers is None:\n",
        "        layers = {'0': 'conv1_1',\n",
        "                  '5': 'conv2_1',\n",
        "                 '10': 'conv3_1',\n",
        "                 '19': 'conv4_1',\n",
        "                 '21': 'conv4_2',\n",
        "                 '28' : 'conv5_1'}\n",
        "            \n",
        "    features = {}\n",
        "    x = image\n",
        "    # model._modules is a dictionary holding each module in the model\n",
        "    for name, layer in model._modules.items():\n",
        "        x = layer(x)\n",
        "        if name in layers:\n",
        "            features[layers[name]] = x\n",
        "            \n",
        "    return features"
      ],
      "metadata": {
        "id": "e7-0zASXyT2f"
      },
      "execution_count": null,
      "outputs": []
    },
    {
      "cell_type": "markdown",
      "source": [
        "The Gram matrix"
      ],
      "metadata": {
        "id": "zQLzDuxByWWp"
      }
    },
    {
      "cell_type": "code",
      "source": [
        "def gram_matrix(tensor):\n",
        "  \n",
        "    ## reshape it, so we are multiplying the features for each channel\n",
        "    tensor = tensor.view(tensor.shape[1], tensor.shape[2]*tensor.shape[3])\n",
        "    \n",
        "    ## calculate the gram matrix\n",
        "    gram = torch.mm(tensor,tensor.t())\n",
        "    \n",
        "    return gram "
      ],
      "metadata": {
        "id": "sN4HyyyLya_i"
      },
      "execution_count": null,
      "outputs": []
    },
    {
      "cell_type": "markdown",
      "source": [
        "Getting features for style and content images"
      ],
      "metadata": {
        "id": "POcYBV0Lydsc"
      }
    },
    {
      "cell_type": "code",
      "source": [
        "# get content and style features\n",
        "content_features = get_features(content, vgg)\n",
        "style_features = get_features(style, vgg)\n",
        "\n",
        "# calculate the gram matrices for each layer of our style representation\n",
        "style_grams = {layer: gram_matrix(style_features[layer]) for layer in style_features}\n",
        "\n",
        "# Initalizing our target image\n",
        "target = content.clone().requires_grad_(True).to(device)"
      ],
      "metadata": {
        "id": "U2xJOmzxygHr"
      },
      "execution_count": null,
      "outputs": []
    },
    {
      "cell_type": "markdown",
      "source": [
        "Display an image"
      ],
      "metadata": {
        "id": "KYSy3HCbyitS"
      }
    },
    {
      "cell_type": "code",
      "source": [
        "def im_convert(tensor):\n",
        "    \n",
        "    image = tensor.to(\"cpu\").clone().detach()\n",
        "    image = image.numpy().squeeze()\n",
        "    image = image.transpose(1,2,0)\n",
        "    image = image * np.array((0.229, 0.224, 0.225)) + np.array((0.485, 0.456, 0.406))\n",
        "    image = image.clip(0, 1)\n",
        "\n",
        "    return imag"
      ],
      "metadata": {
        "id": "JM-FaBMfykwA"
      },
      "execution_count": null,
      "outputs": []
    },
    {
      "cell_type": "markdown",
      "source": [
        "Weights"
      ],
      "metadata": {
        "id": "6zqePRipyoY0"
      }
    },
    {
      "cell_type": "code",
      "source": [
        "# weights for each style layer \n",
        "# weighting earlier layers more will result in *larger* style artifacts\n",
        "# notice we are excluding `conv4_2` our content representation\n",
        "style_weights = {'conv1_1': 1.,\n",
        "                 'conv2_1': 0.8,\n",
        "                 'conv3_1': 0.5,\n",
        "                 'conv4_1': 0.3,\n",
        "                 'conv5_1': 0.1}\n",
        "\n",
        "content_weight = 1  # alpha\n",
        "style_weight = 1e6  # beta"
      ],
      "metadata": {
        "id": "5tAXHy64ypC_"
      },
      "execution_count": null,
      "outputs": []
    },
    {
      "cell_type": "markdown",
      "source": [
        "Updating the Target image"
      ],
      "metadata": {
        "id": "tZ_iq9LSyrQr"
      }
    },
    {
      "cell_type": "code",
      "source": [
        "# for displaying the target image, intermittently\n",
        "show_every = 400\n",
        "\n",
        "# iteration hyperparameters\n",
        "optimizer = optim.Adam([target], lr=0.003)\n",
        "steps = 2000  # decide how many iterations to update your image (5000)\n",
        "\n",
        "for ii in range(1, steps+1):\n",
        "    \n",
        "    # get the features from your target image    \n",
        "    target_features = get_features(target, vgg)\n",
        "    \n",
        "    # calculate the content loss\n",
        "    content_loss = torch.mean((target_features['conv4_2'] - content_features['conv4_2'])**2)\n",
        "    \n",
        "    # initialize the style loss to 0\n",
        "    style_loss = 0\n",
        "    # iterate through each style layer and add to the style loss\n",
        "    for layer in style_weights:\n",
        "      \n",
        "        # get the \"target\" style representation for the layer\n",
        "        target_feature = target_features[layer]\n",
        "        _, d, h, w = target_feature.shape\n",
        "        \n",
        "        # Calculate the target gram matrix\n",
        "        target_gram = gram_matrix(target_feature)\n",
        "        \n",
        "        # get the \"style\" style representation\n",
        "        style_gram = style_grams[layer]\n",
        "        \n",
        "        # Calculate the style loss for one layer, weighted appropriately\n",
        "        layer_style_loss = style_weights[layer]* torch.mean((target_gram - style_gram)**2)\n",
        "        \n",
        "        # add to the style loss\n",
        "        style_loss += layer_style_loss / (d * h * w)\n",
        "        \n",
        "        \n",
        "    # calculate the *total* loss\n",
        "    total_loss = content_weight*content_loss + style_weight*style_loss\n",
        "\n",
        "    # update your target image\n",
        "    optimizer.zero_grad()\n",
        "    total_loss.backward()\n",
        "    optimizer.step()\n",
        "    \n",
        "    # display intermediate images and print the loss\n",
        "    if  ii % show_every == 0:\n",
        "        print('Total loss: ', total_loss.item())\n",
        "        plt.imshow(im_convert(target))\n",
        "        plt.show()"
      ],
      "metadata": {
        "id": "Dhwd8f8xyt20"
      },
      "execution_count": null,
      "outputs": []
    },
    {
      "cell_type": "markdown",
      "source": [
        "Displaying the final result"
      ],
      "metadata": {
        "id": "4ij1bt21ywwv"
      }
    },
    {
      "cell_type": "code",
      "source": [
        "# display content and final, target image\n",
        "fig, (ax1, ax2) = plt.subplots(1, 2, figsize=(20, 10))\n",
        "ax1.imshow(im_convert(content))\n",
        "ax2.imshow(im_convert(target))"
      ],
      "metadata": {
        "id": "EaosKhd2y142"
      },
      "execution_count": null,
      "outputs": []
    }
  ]
}